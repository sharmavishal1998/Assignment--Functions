{
  "nbformat": 4,
  "nbformat_minor": 0,
  "metadata": {
    "colab": {
      "provenance": []
    },
    "kernelspec": {
      "name": "python3",
      "display_name": "Python 3"
    },
    "language_info": {
      "name": "python"
    }
  },
  "cells": [
    {
      "cell_type": "code",
      "source": [
        "#Question1-Write a pyhon function that takes a list of numbers as input and returns sum of all even numbers in the list.\n",
        "#answer-\n",
        "def sum_of_evens(numbers):\n",
        "    even_sum = 0\n",
        "    for num in numbers:\n",
        "        if num % 2 == 0:    #here if conditon checks if num is divisible by 2 then only it will be even\n",
        "            even_sum += num\n",
        "    return even_sum\n",
        "numbers = [2,4,5,6,7,8,9,10,14,15]\n",
        "result = sum_of_evens(numbers)\n",
        "print(result)\n"
      ],
      "metadata": {
        "colab": {
          "base_uri": "https://localhost:8080/"
        },
        "id": "LiZlPgq-lq0M",
        "outputId": "ee8f8fb7-df06-4b3f-fe50-e169c365f7c4"
      },
      "execution_count": 1,
      "outputs": [
        {
          "output_type": "stream",
          "name": "stdout",
          "text": [
            "44\n"
          ]
        }
      ]
    },
    {
      "cell_type": "code",
      "source": [
        "#Question2-Create a python function that accepts a string and returns the reverse of that string.\n",
        "#answer-def reverse_string(s):\n",
        "def reverse_string(s):\n",
        "    reversed_str = \"\"\n",
        "    for char in s:\n",
        "        reversed_str = char + reversed_str  #For each character, it adds it to the beginning of reversed_str\n",
        "    return reversed_str\n",
        "\n",
        "string = \"Hello, students welcome to pwskills!\"\n",
        "reversed_string = reverse_string(string)\n",
        "print(reversed_string)\n",
        "\n"
      ],
      "metadata": {
        "colab": {
          "base_uri": "https://localhost:8080/"
        },
        "id": "JsepZiJoo-8w",
        "outputId": "3f3972dd-127e-4c20-a011-4a7b4ee93865"
      },
      "execution_count": 2,
      "outputs": [
        {
          "output_type": "stream",
          "name": "stdout",
          "text": [
            "!sllikswp ot emoclew stneduts ,olleH\n"
          ]
        }
      ]
    },
    {
      "cell_type": "code",
      "source": [
        "#Question3-Implement a python function that takes a list of integers and returns a new list containing the squares of each numbers.\n",
        "#answer- function that takes a list and and returns squares using lambda function.\n",
        "def square_numbers(numbers):\n",
        "    return list(map(lambda x: x ** 2, numbers))\n",
        "numbers = [4,5,7,8,9]\n",
        "squared_list = square_numbers(numbers)\n",
        "print(squared_list)\n",
        "\n",
        "def square_numbers(numbers):\n",
        "    return [num ** 2 for num in numbers]          #funtion that returns squares using for loop\n",
        "numbers = [4,5,7,8,9]\n",
        "squared_list = square_numbers(numbers)\n",
        "print(squared_list)  # Output will be [1, 4, 9, 16, 25]\n",
        "\n",
        "\n"
      ],
      "metadata": {
        "colab": {
          "base_uri": "https://localhost:8080/"
        },
        "id": "3dpv3Hatq0w5",
        "outputId": "f171be06-cd0e-4f36-90c5-a3740997d00e"
      },
      "execution_count": 3,
      "outputs": [
        {
          "output_type": "stream",
          "name": "stdout",
          "text": [
            "[16, 25, 49, 64, 81]\n",
            "[16, 25, 49, 64, 81]\n"
          ]
        }
      ]
    },
    {
      "cell_type": "code",
      "source": [
        "#Question4-Write a python function that checks if a given number is prime of not for 1 to 100.\n",
        "#Answer- funtion to check given number is prime or not\n",
        "def is_prime(n):\n",
        "    if n <= 1:\n",
        "        return False\n",
        "    for i in range(2, n): #the function iterates from 2 up to n-1\n",
        "        if n % i == 0:    #if any number in this range divides n without a remainder, n is not prime.\n",
        "            return False\n",
        "    return True\n",
        "for num in range(1, 101):\n",
        "    if is_prime(num):\n",
        "        print(f\"{num} is prime\"  ,end=\" , \")\n",
        "    else:\n",
        "      print(f\"{num} is not prime\",end=\" ,\")"
      ],
      "metadata": {
        "colab": {
          "base_uri": "https://localhost:8080/"
        },
        "id": "oVM5jIPtsMWo",
        "outputId": "26d2aa16-440b-4e7a-99ae-62f9735ce2a8"
      },
      "execution_count": null,
      "outputs": [
        {
          "output_type": "stream",
          "name": "stdout",
          "text": [
            "1 is not prime ,2 is prime , 3 is prime , 4 is not prime ,5 is prime , 6 is not prime ,7 is prime , 8 is not prime ,9 is not prime ,10 is not prime ,11 is prime , 12 is not prime ,13 is prime , 14 is not prime ,15 is not prime ,16 is not prime ,17 is prime , 18 is not prime ,19 is prime , 20 is not prime ,21 is not prime ,22 is not prime ,23 is prime , 24 is not prime ,25 is not prime ,26 is not prime ,27 is not prime ,28 is not prime ,29 is prime , 30 is not prime ,31 is prime , 32 is not prime ,33 is not prime ,34 is not prime ,35 is not prime ,36 is not prime ,37 is prime , 38 is not prime ,39 is not prime ,40 is not prime ,41 is prime , 42 is not prime ,43 is prime , 44 is not prime ,45 is not prime ,46 is not prime ,47 is prime , 48 is not prime ,49 is not prime ,50 is not prime ,51 is not prime ,52 is not prime ,53 is prime , 54 is not prime ,55 is not prime ,56 is not prime ,57 is not prime ,58 is not prime ,59 is prime , 60 is not prime ,61 is prime , 62 is not prime ,63 is not prime ,64 is not prime ,65 is not prime ,66 is not prime ,67 is prime , 68 is not prime ,69 is not prime ,70 is not prime ,71 is prime , 72 is not prime ,73 is prime , 74 is not prime ,75 is not prime ,76 is not prime ,77 is not prime ,78 is not prime ,79 is prime , 80 is not prime ,81 is not prime ,82 is not prime ,83 is prime , 84 is not prime ,85 is not prime ,86 is not prime ,87 is not prime ,88 is not prime ,89 is prime , 90 is not prime ,91 is not prime ,92 is not prime ,93 is not prime ,94 is not prime ,95 is not prime ,96 is not prime ,97 is prime , 98 is not prime ,99 is not prime ,100 is not prime ,"
          ]
        }
      ]
    },
    {
      "cell_type": "code",
      "source": [
        "#Question5-Create an iterator class in Python that generates the Fibonacci sequence up to a specified number of terms.\n",
        "#Answer-\n",
        "def fibonacci_iterator(num_terms):\n",
        "    a, b = 0, 1\n",
        "    count = 0\n",
        "    while count < num_terms:\n",
        "        yield a                                #yield produces the next Fibonacci number each time the generator is iterated over\n",
        "        a, b = b, a + b\n",
        "        count += 1\n",
        "for fib in fibonacci_iterator(10):\n",
        "    print(fib)\n"
      ],
      "metadata": {
        "colab": {
          "base_uri": "https://localhost:8080/"
        },
        "id": "dS4NJhWruRaD",
        "outputId": "41e5a019-c99d-4c20-bcd3-95c6f93dd14d"
      },
      "execution_count": 4,
      "outputs": [
        {
          "output_type": "stream",
          "name": "stdout",
          "text": [
            "0\n",
            "1\n",
            "1\n",
            "2\n",
            "3\n",
            "5\n",
            "8\n",
            "13\n",
            "21\n",
            "34\n"
          ]
        }
      ]
    },
    {
      "cell_type": "code",
      "source": [
        "#Question6-Write a generator function in Python that yields the powers of 2 up to a given exponent.\n",
        "#Answer-\n",
        "def powers_of_2_generator(max_exponent):\n",
        "    exponent = 0   #it starts with an exponent of 0 and continues to max exponent\n",
        "    while exponent <= max_exponent:\n",
        "        yield 2 ** exponent  #In each iteration, it yields 2 ** exponent and then increments the exponent.\n",
        "        exponent += 1\n",
        "for power in powers_of_2_generator(5):\n",
        "    print(power)"
      ],
      "metadata": {
        "colab": {
          "base_uri": "https://localhost:8080/"
        },
        "id": "wq8lKTUKvZDc",
        "outputId": "1a9c3411-c356-427a-b0d5-8e891b29b898"
      },
      "execution_count": 5,
      "outputs": [
        {
          "output_type": "stream",
          "name": "stdout",
          "text": [
            "1\n",
            "2\n",
            "4\n",
            "8\n",
            "16\n",
            "32\n"
          ]
        }
      ]
    },
    {
      "cell_type": "code",
      "source": [
        "#Question7-Implement a generator function that reads a file line by line and yields each line as a string\n",
        "#answer-\n",
        "L = [\"Welcome\\n\", \"to\\n\", \"pwskills\\n\"]\n",
        "file1 = open('myfile.txt', 'w')\n",
        "file1.writelines((L))\n",
        "file1.close()\n",
        "def read_file_lines(filename):   #read_file_lines(filename) is a generator function that opens the specified file for reading\n",
        "    with open(filename, 'r') as file:\n",
        "        while True:\n",
        "            line = file.readline()\n",
        "            if not line:\n",
        "                break\n",
        "            yield line.strip()   #yield line.strip() yields each line with leading and trailing whitespace removed\n",
        "filename = 'myfile.txt'  #file name\n",
        "for count, line in enumerate(read_file_lines(filename), start=1):\n",
        "    print(f\"Line{count}: {line}\")"
      ],
      "metadata": {
        "colab": {
          "base_uri": "https://localhost:8080/"
        },
        "id": "O5sEMvU77ctm",
        "outputId": "05d13619-8ebf-48b2-fef7-702eb3b75494"
      },
      "execution_count": 11,
      "outputs": [
        {
          "output_type": "stream",
          "name": "stdout",
          "text": [
            "Line1: Welcome\n",
            "Line2: to\n",
            "Line3: pwskills\n"
          ]
        }
      ]
    },
    {
      "cell_type": "code",
      "source": [
        "#Question8-Use a lambda function in Python to sort a list of tuples based on the second element of each tuple.\n",
        "#answer-\n",
        "# List of tuples\n",
        "data = [(4, 'dog'), (1, 'cat'), (3, 'elephant'), (2, 'bird')]\n",
        "\n",
        "sorted_data = sorted(data, key=lambda x: x[1])    #Sort the list of tuples by the second element\n",
        "\n",
        "print(sorted_data)\n"
      ],
      "metadata": {
        "colab": {
          "base_uri": "https://localhost:8080/"
        },
        "id": "7vjRDvkZx813",
        "outputId": "f5dae789-3257-4ba9-d7d4-1d448d1b0ed9"
      },
      "execution_count": 10,
      "outputs": [
        {
          "output_type": "stream",
          "name": "stdout",
          "text": [
            "[(2, 'bird'), (1, 'cat'), (4, 'dog'), (3, 'elephant')]\n"
          ]
        }
      ]
    },
    {
      "cell_type": "code",
      "source": [
        "#Question9-Write a Python program that uses `map()` to convert a list of temperatures from Celsius to Fahrenheit\n",
        "#Answer\n",
        "celsius_temps = [0, 20, 25, 40]   #Tempratures in celsius\n",
        "temp_in_fahrenheit = list(map(lambda c: c * 9/5 + 32, celsius_temps))  #Convert Celsius to Fahrenheit using map and lambda,formula to convert Celsius to Fahrenheit is c * 9/5 + 32\n",
        "\n",
        "print(temp_in_fahrenheit)\n"
      ],
      "metadata": {
        "colab": {
          "base_uri": "https://localhost:8080/"
        },
        "id": "H94QErOTyjJi",
        "outputId": "17abb602-52d5-4505-a9d2-6778d8fbe8be"
      },
      "execution_count": 9,
      "outputs": [
        {
          "output_type": "stream",
          "name": "stdout",
          "text": [
            "[32.0, 68.0, 77.0, 104.0]\n"
          ]
        }
      ]
    },
    {
      "cell_type": "code",
      "source": [
        "#Question10-Create a Python program that uses `filter()` to remove all the vowels from a given string.\n",
        "#Answer-\n",
        "def remove_vowels(s):\n",
        "    vowels = set('aeiouAEIOU')\n",
        "    result = ''\n",
        "    for char in s:       #here for loop is used to iterate through string\n",
        "        if char not in vowels:\n",
        "            result += char\n",
        "    return result\n",
        "string = \"Hello students welcome to pwskills!\"\n",
        "result = remove_vowels(string)\n",
        "print(result)\n"
      ],
      "metadata": {
        "colab": {
          "base_uri": "https://localhost:8080/"
        },
        "id": "5g60TVnjzrYL",
        "outputId": "b000f0f2-7e3f-49c3-ab21-1279770efa74"
      },
      "execution_count": 12,
      "outputs": [
        {
          "output_type": "stream",
          "name": "stdout",
          "text": [
            "Hll stdnts wlcm t pwsklls!\n"
          ]
        }
      ]
    },
    {
      "cell_type": "code",
      "source": [
        "#Question11-Imagine an accounting routine used in a book shop. It works on a list with sublists, which look like this\n",
        "#Write a Python program, which returns a list with 2-tuples. Each tuple consists of the order number and the\n",
        "#product of the price per item and the quantity. The product should be increased by 10,- € if the value of the\n",
        "#order is smaller than 100,00 €\n",
        "#Write a Python program using lambda and map.\n",
        "#Answer-\n",
        "orders = [[34587, \"Learning Python, Mark Lutz\", 4, 40.95],[98762, \"Programming Python, Mark Lutz\", 5, 56.8],[77226, \"Head First Python, Paul Barry\", 3, 32.95],[88112, \"Einfuhrung in Python3, Bernd Klein\", 3, 24.99]]\n",
        "\n",
        "result = list(map(lambda order: (\n",
        "    order[0],  # Order number\n",
        "    (order[2] * order[3]) + 10 if (order[2] * order[3]) < 100 else (order[2] * order[3])  # Total price with condition\n",
        "), orders))\n",
        "\n",
        "print(result)\n"
      ],
      "metadata": {
        "id": "VO35YmKD0r9F",
        "colab": {
          "base_uri": "https://localhost:8080/"
        },
        "outputId": "6e6577c9-f2c8-41af-b6da-26ad9c2b51ae"
      },
      "execution_count": 13,
      "outputs": [
        {
          "output_type": "stream",
          "name": "stdout",
          "text": [
            "[(34587, 163.8), (98762, 284.0), (77226, 108.85000000000001), (88112, 84.97)]\n"
          ]
        }
      ]
    }
  ]
}